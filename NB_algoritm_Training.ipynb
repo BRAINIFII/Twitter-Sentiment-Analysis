{
 "cells": [
  {
   "cell_type": "markdown",
   "metadata": {},
   "source": [
    "# Authenticating our Python script"
   ]
  },
  {
   "cell_type": "code",
   "execution_count": 1,
   "metadata": {
    "tags": []
   },
   "outputs": [
    {
     "output_type": "stream",
     "name": "stdout",
     "text": "{\"created_at\": \"Fri Jul 03 14:08:13 +0000 2020\", \"default_profile\": true, \"default_profile_image\": true, \"followers_count\": 1, \"id\": 1279054229819154433, \"id_str\": \"1279054229819154433\", \"name\": \"Darsh Chandak\", \"profile_background_color\": \"F5F8FA\", \"profile_image_url\": \"http://abs.twimg.com/sticky/default_profile_images/default_profile_normal.png\", \"profile_image_url_https\": \"https://abs.twimg.com/sticky/default_profile_images/default_profile_normal.png\", \"profile_link_color\": \"1DA1F2\", \"profile_sidebar_border_color\": \"C0DEED\", \"profile_sidebar_fill_color\": \"DDEEF6\", \"profile_text_color\": \"333333\", \"profile_use_background_image\": true, \"screen_name\": \"ChandakDarsh\"}\n"
    }
   ],
   "source": [
    "import twitter\n",
    "twitter_api = twitter.Api(consumer_key='YCItuzSp8kdKBq81Tj4mmGBZm',\n",
    "                  consumer_secret='fb1ZnmFVKTG54wpAamnxNt7GRaFa9vYBIvUAuCoAfaQWTw5Epd',\n",
    "                  access_token_key='1279054229819154433-1thc23GnRx4Hrh0DR6xTKhBhVXIQAv',\n",
    "                  access_token_secret='GI8oRzX0Ir68JAVUT4IqK7dKtx6uiedo0NxQlN8RWxjyL')\n",
    "\n",
    "\n",
    "# test authentication\n",
    "verify = twitter_api.VerifyCredentials()\n",
    "print(verify)"
   ]
  },
  {
   "cell_type": "markdown",
   "metadata": {},
   "source": [
    "# Creating the function to build the Test set"
   ]
  },
  {
   "cell_type": "code",
   "execution_count": 2,
   "metadata": {},
   "outputs": [],
   "source": [
    "\n",
    "def buildTestSet(search_keyword):\n",
    "    try:\n",
    "        tweets_fetched = twitter_api.GetSearch(search_keyword, count = 100)\n",
    "        \n",
    "        print(\"Fetched \" + str(len(tweets_fetched)) + \" tweets for the term \" + search_keyword)\n",
    "        \n",
    "        return [{\"text\":status.text, \"label\":None} for status in tweets_fetched]\n",
    "    except:\n",
    "        print(\"Unfortunately, something went wrong..\")\n",
    "        return None"
   ]
  },
  {
   "cell_type": "markdown",
   "metadata": {},
   "source": [
    "# Testing Function"
   ]
  },
  {
   "cell_type": "code",
   "execution_count": 3,
   "metadata": {
    "tags": []
   },
   "outputs": [
    {
     "output_type": "stream",
     "name": "stdout",
     "text": "Fetched 100 tweets for the term Covid-19\n[{'text': \"Schools can't even control lice, you think they can control Covid-19.\", 'label': None}, {'text': 'Your reminder that schools in Germany, Norway, and Denmark can open safely because their leaders contained Covid-19… https://t.co/YrQ9jrWW0q', 'label': None}, {'text': 'The media cannot admit that we have effective COVID-19 treatments because then they wouldn’t be able to continue th… https://t.co/MO92AeLbN7', 'label': None}, {'text': 'Pain is permanently haunting me. I lost a dear friend of mine, whose name shall not be revealed for their privacy,… https://t.co/2hSZ5y90VC', 'label': None}]\n"
    }
   ],
   "source": [
    "search_term = \"Covid-19\"\n",
    "testDataSet = buildTestSet(search_term)\n",
    "\n",
    "print(testDataSet[0:4])\n",
    "# print(tweet[\"text\"]+\"  \"+tweet[\"label\"])\n",
    "# print(testDataSet)"
   ]
  },
  {
   "cell_type": "markdown",
   "metadata": {},
   "source": [
    "# Preparing The Training Set"
   ]
  },
  {
   "cell_type": "code",
   "execution_count": 4,
   "metadata": {},
   "outputs": [],
   "source": [
    "def buildTrainingSet(corpusFile, tweetDataFile):\n",
    "    import csv\n",
    "    import time\n",
    "\n",
    "    corpus = []\n",
    "\n",
    "    with open(corpusFile,'rt') as csvfile:\n",
    "        lineReader = csv.reader(csvfile,delimiter=',', quotechar=\"\\\"\")\n",
    "        for row in lineReader:\n",
    "            corpus.append({\"tweet_id\":row[2], \"label\":row[1], \"topic\":row[0]})\n",
    "\n",
    "    rate_limit = 180\n",
    "    sleep_time = 900/180\n",
    "\n",
    "    trainingDataSet = []\n",
    "\n",
    "    i=0\n",
    "    for tweet in corpus:\n",
    "        try:\n",
    "            i=i+1\n",
    "            status = twitter_api.GetStatus(tweet[\"tweet_id\"])\n",
    "            # print(\"Tweet fetched: [\"+i+\"] : \"+ status.text)\n",
    "            print(\"Tweet fetched: [\"+str(i)+\"] : \"+ status.text)\n",
    "            tweet[\"text\"] = status.text\n",
    "            trainingDataSet.append(tweet)\n",
    "            time.sleep(sleep_time)\n",
    "            with open(tweetDataFile,'w',newline='') as csvfile:\n",
    "                linewriter = csv.writer(csvfile,delimiter=',',quotechar=\"\\\"\")\n",
    "                for tweet in trainingDataSet:\n",
    "                    try:\n",
    "                        linewriter.writerow([tweet[\"tweet_id\"], tweet[\"text\"], tweet[\"label\"], tweet[\"topic\"]])\n",
    "                    except Exception as e:\n",
    "                        print(e)\n",
    "        except:\n",
    "            i=i-1\n",
    "            # print(\"Tweet not fetched: [\"+str(i)+\"]\")\n",
    "            continue\n",
    "    # now we write them to the empty CSV file\n",
    "    \n",
    "    return trainingDataSet"
   ]
  },
  {
   "cell_type": "code",
   "execution_count": 45,
   "metadata": {
    "tags": []
   },
   "outputs": [],
   "source": [
    "\n",
    "corpusFile = \"Datasets/corpus_test.csv\"\n",
    "tweetDataFile = \"Datasets/tweetDataFile_test.csv\"\n",
    "print(\"corpus File:\"+corpusFile)\n",
    "trainingData = buildTrainingSet(corpusFile, tweetDataFile)\n",
    "print(\"\\n\\n\\tDone\")"
   ]
  }
 ],
 "metadata": {
  "kernelspec": {
   "display_name": "Python 3.8.3 32-bit",
   "language": "python",
   "name": "python_defaultSpec_1594358541688"
  },
  "language_info": {
   "codemirror_mode": {
    "name": "ipython",
    "version": 3
   },
   "file_extension": ".py",
   "mimetype": "text/x-python",
   "name": "python",
   "nbconvert_exporter": "python",
   "pygments_lexer": "ipython3",
   "version": "3.7.6-final"
  }
 },
 "nbformat": 4,
 "nbformat_minor": 4
}